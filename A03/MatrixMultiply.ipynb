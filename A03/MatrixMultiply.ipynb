{
 "cells": [
  {
   "cell_type": "markdown",
   "id": "14ec336c",
   "metadata": {},
   "source": [
    "<figure>\n",
    "  <IMG SRC=\"https://upload.wikimedia.org/wikipedia/commons/thumb/d/d5/Fachhochschule_Südwestfalen_20xx_logo.svg/320px-Fachhochschule_Südwestfalen_20xx_logo.svg.png\" WIDTH=250 ALIGN=\"right\">\n",
    "</figure>\n",
    "\n",
    "# Einführung Machine Learning\n",
    "### Sommersemester 2022\n",
    "Prof. Dr. Heiner Giefers"
   ]
  },
  {
   "cell_type": "markdown",
   "id": "da7ccd8e",
   "metadata": {},
   "source": [
    "## Aufgabe: Matrizenmultiplikation in Python"
   ]
  },
  {
   "cell_type": "markdown",
   "id": "81f62b93",
   "metadata": {},
   "source": [
    "Wir importieren NumPy und erzeugen zwei Matrizen der Größe $N\\times{}N$ mit gleichverteilten Zufallszahlen aus dem Bereich $[0,1)$."
   ]
  },
  {
   "cell_type": "code",
   "execution_count": null,
   "id": "88e23355",
   "metadata": {},
   "outputs": [],
   "source": [
    "import numpy as np\n",
    "\n",
    "N = 100\n",
    "A = np.random.rand(N, N)\n",
    "B = np.random.rand(N, N)"
   ]
  },
  {
   "cell_type": "markdown",
   "id": "a9af2d57",
   "metadata": {},
   "source": [
    "Wir wollen nun die beiden NumPy Matrizen miteinander multiplizieren. Dazu können wir den Matrizenmultiplikations-Operator `@` von NumPy verwenden.\n",
    "\n",
    "Um die Laufzeit dieser Operation zu messen, verwenden wir eine sogenannte *IPython Magic Function* namens `timeit`.\n",
    "*Magic Functions* werden mit einem vorangestellten `%` aufgerufen:"
   ]
  },
  {
   "cell_type": "code",
   "execution_count": null,
   "id": "f5b4a0a5",
   "metadata": {},
   "outputs": [],
   "source": [
    "%timeit C=A@B"
   ]
  },
  {
   "cell_type": "markdown",
   "id": "2d589259",
   "metadata": {},
   "source": [
    "Nun wollen wir die gleiche Operation in Python, also ohne NumPy implementieren.\n",
    "Dazu wandeln wir zunächst die *ndarrays* `A` und `B` in *normale* Python Listen-Objekte um:"
   ]
  },
  {
   "cell_type": "code",
   "execution_count": null,
   "id": "31d383fc",
   "metadata": {},
   "outputs": [],
   "source": [
    "A_list = A.tolist()\n",
    "B_list = B.tolist()\n",
    "type(A_list), type(B_list)"
   ]
  },
  {
   "cell_type": "markdown",
   "id": "ab8b9298",
   "metadata": {},
   "source": [
    "Nun sind Sie an der Reihe. Schreiben Sie eine Funktion `matmul` mit der Sie eine Matrizenmultiplikation zweier Matrizen `A` und `B` durchführen. Gehen Sie davon aus, dass `A` und `B` als zweidimensionale Listen (*Listen von Listen*) übergeben werden. Die Funktion soll eine neue Matrix `C` zurückliefern.\n",
    "\n",
    "![](https://github.com/fh-swf-hgi/intro-ml/raw/main/Praktika/A03/matmult.png)"
   ]
  },
  {
   "cell_type": "code",
   "execution_count": null,
   "id": "4c8ef42f",
   "metadata": {
    "deletable": false,
    "nbgrader": {
     "grade": false,
     "grade_id": "cell-80d69cb24a5a5248",
     "locked": false,
     "schema_version": 3,
     "solution": true,
     "task": false
    }
   },
   "outputs": [],
   "source": [
    "def matmul(A,B):\n",
    "    # YOUR CODE HERE\n",
    "    raise NotImplementedError()"
   ]
  },
  {
   "cell_type": "code",
   "execution_count": null,
   "id": "bf5b39ad",
   "metadata": {
    "deletable": false,
    "editable": false,
    "nbgrader": {
     "grade": true,
     "grade_id": "cell-fbf61c5254ede6bd",
     "locked": true,
     "points": 0,
     "schema_version": 3,
     "solution": false,
     "task": false
    }
   },
   "outputs": [],
   "source": [
    "A_ = [[1,2,3,4],[5,6,7,8],[9,10,11,12]]\n",
    "B_ = [[1,2,3],[4,5,6],[7,8,9],[10,11,12]]\n",
    "assert matmul(A_,B_) == [[70, 80, 90], [158, 184, 210], [246, 288, 330]]"
   ]
  },
  {
   "cell_type": "markdown",
   "id": "80ee009b",
   "metadata": {},
   "source": [
    "Testen Sie nun die Laufzeit der selbst implementierten Matrizenmultiplikation."
   ]
  },
  {
   "cell_type": "code",
   "execution_count": null,
   "id": "eb722d0b",
   "metadata": {
    "deletable": false,
    "nbgrader": {
     "grade": false,
     "grade_id": "cell-ef0d2a6d29e95723",
     "locked": false,
     "schema_version": 3,
     "solution": true,
     "task": false
    }
   },
   "outputs": [],
   "source": [
    "# YOUR CODE HERE\n",
    "raise NotImplementedError()"
   ]
  },
  {
   "cell_type": "code",
   "execution_count": null,
   "id": "7ca36ba3",
   "metadata": {
    "deletable": false,
    "editable": false,
    "nbgrader": {
     "grade": true,
     "grade_id": "cell-50aa90906e96fa85",
     "locked": true,
     "points": 0,
     "schema_version": 3,
     "solution": false,
     "task": false
    }
   },
   "outputs": [],
   "source": [
    "assert 'timeit' in _i"
   ]
  },
  {
   "cell_type": "markdown",
   "id": "330bb03d",
   "metadata": {},
   "source": [
    "Wiederholen Sie die Messungen für verschiedene Größen von N.\n",
    "Sammeln Sie die Luafzeitergebnisse in zwei Listen `run_numpy` und `run_py`.\n",
    "\n",
    "Um ein Ergebnis von der `timeit` Funktion zu bekommen, rufen Sie die Funktion folgendermaßen auf:"
   ]
  },
  {
   "cell_type": "code",
   "execution_count": null,
   "id": "0ba49be3",
   "metadata": {},
   "outputs": [],
   "source": [
    "t = %timeit -o C=A@B\n",
    "print(f\"Mittlere Laufzeit = {t.average}s\")"
   ]
  },
  {
   "cell_type": "code",
   "execution_count": null,
   "id": "a762cd00",
   "metadata": {
    "deletable": false,
    "nbgrader": {
     "grade": false,
     "grade_id": "cell-7de9c51f01cd0f8c",
     "locked": false,
     "schema_version": 3,
     "solution": true,
     "task": false
    }
   },
   "outputs": [],
   "source": [
    "\n",
    "run_numpy = []\n",
    "run_py = []\n",
    "\n",
    "N_values = [10, 20, 30, 40, 50, 100]\n",
    "\n",
    "# YOUR CODE HERE\n",
    "raise NotImplementedError()"
   ]
  },
  {
   "cell_type": "code",
   "execution_count": null,
   "id": "aa17145d",
   "metadata": {
    "deletable": false,
    "editable": false,
    "nbgrader": {
     "grade": true,
     "grade_id": "cell-10b3887c948c65d9",
     "locked": true,
     "points": 0,
     "schema_version": 3,
     "solution": false,
     "task": false
    }
   },
   "outputs": [],
   "source": [
    "assert len(run_numpy)>0\n",
    "assert len(run_numpy)==len(run_py)"
   ]
  },
  {
   "cell_type": "markdown",
   "id": "4a99a492",
   "metadata": {},
   "source": [
    "Verwenden Sie *Matplotlib*, um beiden Messreihen in einen Graphen zu plotten."
   ]
  },
  {
   "cell_type": "code",
   "execution_count": null,
   "id": "b02055ba",
   "metadata": {
    "deletable": false,
    "nbgrader": {
     "grade": false,
     "grade_id": "cell-2ea5d945d0df26ee",
     "locked": false,
     "schema_version": 3,
     "solution": true,
     "task": false
    }
   },
   "outputs": [],
   "source": [
    "import matplotlib.pyplot as plt\n",
    "\n",
    "# YOUR CODE HERE\n",
    "raise NotImplementedError()"
   ]
  },
  {
   "cell_type": "code",
   "execution_count": null,
   "id": "a771175d",
   "metadata": {
    "deletable": false,
    "editable": false,
    "nbgrader": {
     "grade": true,
     "grade_id": "cell-8e09e028df381fa6",
     "locked": true,
     "points": 0,
     "schema_version": 3,
     "solution": false,
     "task": false
    }
   },
   "outputs": [],
   "source": [
    "assert 'plt.' in _i"
   ]
  }
 ],
 "metadata": {
  "kernelspec": {
   "display_name": "Python 3",
   "language": "python",
   "name": "python3"
  },
  "language_info": {
   "codemirror_mode": {
    "name": "ipython",
    "version": 3
   },
   "file_extension": ".py",
   "mimetype": "text/x-python",
   "name": "python",
   "nbconvert_exporter": "python",
   "pygments_lexer": "ipython3",
   "version": "3.8.5"
  }
 },
 "nbformat": 4,
 "nbformat_minor": 5
}
