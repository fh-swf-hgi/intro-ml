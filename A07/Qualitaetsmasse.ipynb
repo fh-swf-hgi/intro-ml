{
 "cells": [
  {
   "cell_type": "markdown",
   "id": "eda7edd8",
   "metadata": {},
   "source": [
    "<figure>\n",
    "  <IMG SRC=\"https://upload.wikimedia.org/wikipedia/commons/thumb/d/d5/Fachhochschule_Südwestfalen_20xx_logo.svg/320px-Fachhochschule_Südwestfalen_20xx_logo.svg.png\" WIDTH=250 ALIGN=\"right\">\n",
    "</figure>\n",
    "\n",
    "# Einführung Machine Learning\n",
    "### Sommersemester 2022\n",
    "Prof. Dr. Heiner Giefers"
   ]
  },
  {
   "cell_type": "code",
   "execution_count": null,
   "id": "ef89e531",
   "metadata": {
    "deletable": false,
    "nbgrader": {
     "grade": false,
     "grade_id": "cell-4293ef3182378b73",
     "locked": false,
     "schema_version": 3,
     "solution": true,
     "task": false
    }
   },
   "outputs": [],
   "source": [
    "measure = [0,0,0,1,0,1,1,0,1,0,0,0,0,0,0,1,0,0,0,0]\n",
    "predict = [0,0,1,1,0,1,1,0,1,0,0,0,1,0,0,0,0,0,0,0]\n",
    "\n",
    "TP = None\n",
    "TN = None\n",
    "FP = None\n",
    "FN = None\n",
    "\n",
    "accuracy  = None\n",
    "precision = None\n",
    "recall    = None\n",
    "f1        = None\n",
    "\n",
    "# YOUR CODE HERE\n",
    "raise NotImplementedError()\n",
    "\n",
    "print(\"Accuracy = \", accuracy)\n",
    "print(\"Precision = \", precision)\n",
    "print(\"Recall = \", recall)\n",
    "print(\"F1 = \", f1)"
   ]
  },
  {
   "cell_type": "code",
   "execution_count": null,
   "id": "8dd8b8e5",
   "metadata": {
    "deletable": false,
    "editable": false,
    "nbgrader": {
     "grade": true,
     "grade_id": "cell-4cf46ccc45d22173",
     "locked": true,
     "points": 0,
     "schema_version": 3,
     "solution": false,
     "task": false
    }
   },
   "outputs": [],
   "source": [
    "#Test Zelle"
   ]
  },
  {
   "cell_type": "code",
   "execution_count": null,
   "id": "07b4b0ea",
   "metadata": {},
   "outputs": [],
   "source": []
  }
 ],
 "metadata": {
  "kernelspec": {
   "display_name": "Python 3",
   "language": "python",
   "name": "python3"
  },
  "language_info": {
   "codemirror_mode": {
    "name": "ipython",
    "version": 3
   },
   "file_extension": ".py",
   "mimetype": "text/x-python",
   "name": "python",
   "nbconvert_exporter": "python",
   "pygments_lexer": "ipython3",
   "version": "3.8.5"
  }
 },
 "nbformat": 4,
 "nbformat_minor": 5
}
