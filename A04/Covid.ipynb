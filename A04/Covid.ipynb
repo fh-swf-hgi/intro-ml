{
 "cells": [
  {
   "cell_type": "markdown",
   "id": "6972c87b",
   "metadata": {},
   "source": [
    "<figure>\n",
    "  <IMG SRC=\"https://upload.wikimedia.org/wikipedia/commons/thumb/d/d5/Fachhochschule_Südwestfalen_20xx_logo.svg/320px-Fachhochschule_Südwestfalen_20xx_logo.svg.png\" WIDTH=250 ALIGN=\"right\">\n",
    "</figure>\n",
    "\n",
    "# Einführung Machine Learning\n",
    "### Sommersemester 2022\n",
    "Prof. Dr. Heiner Giefers"
   ]
  },
  {
   "cell_type": "code",
   "execution_count": null,
   "id": "3d09de81",
   "metadata": {},
   "outputs": [],
   "source": [
    "import numpy as np\n",
    "import csv\n",
    "import requests\n",
    "import io\n",
    "import pandas as pd\n",
    "import plotly.express as px\n",
    "import geojson"
   ]
  },
  {
   "cell_type": "code",
   "execution_count": null,
   "id": "1bb2f025",
   "metadata": {},
   "outputs": [],
   "source": [
    "url = \"https://covid.ourworldindata.org/data/owid-covid-data.csv\"\n",
    "s=requests.get(url).content\n",
    "df=pd.read_csv(io.StringIO(s.decode('utf-8')))"
   ]
  },
  {
   "cell_type": "code",
   "execution_count": null,
   "id": "511db109",
   "metadata": {},
   "outputs": [],
   "source": [
    "print(f\"Die Anzahl aller Einträge ist {df.size}\")\n",
    "df.head()        "
   ]
  },
  {
   "cell_type": "code",
   "execution_count": null,
   "id": "6fbe4eae",
   "metadata": {},
   "outputs": [],
   "source": [
    "df_date = df.sort_values(by='date')\n",
    "df_date"
   ]
  },
  {
   "cell_type": "code",
   "execution_count": null,
   "id": "e26431de",
   "metadata": {},
   "outputs": [],
   "source": [
    "df_cleaned = df_date.dropna(0,subset=['new_cases_smoothed_per_million'])\n",
    "print(f\"Noch {df_cleaned.size} Datensätze\")\n",
    "\n",
    "indexEntries = df_cleaned[ df_cleaned['new_cases_smoothed_per_million'] < 0 ].index\n",
    "df_cleaned = df_cleaned.drop(indexEntries)\n",
    "print(f\"Noch {df_cleaned.size} Datensätze\")\n",
    "df_cleaned['Inzidenz'] = df_cleaned['new_cases_smoothed_per_million']/10*7"
   ]
  },
  {
   "cell_type": "code",
   "execution_count": null,
   "id": "b72e0c5b",
   "metadata": {},
   "outputs": [],
   "source": [
    "fig = px.choropleth(df_cleaned, locations=\"iso_code\",\n",
    "                    color=\"Inzidenz\",\n",
    "                    range_color = [0,200],\n",
    "                    hover_name=\"location\",\n",
    "                    animation_frame=\"date\",\n",
    "                    title = \"Corvid: weltweite 7-Tages Inzidenz\",\n",
    "                    color_continuous_scale=px.colors.sequential.Jet)\n",
    " \n",
    " \n",
    "fig[\"layout\"].pop(\"updatemenus\")\n",
    "fig.show()"
   ]
  },
  {
   "cell_type": "code",
   "execution_count": null,
   "id": "cfe2d89c",
   "metadata": {},
   "outputs": [],
   "source": [
    "df_de = df[df['iso_code']=='DEU']\n",
    "\n",
    "print(f\"Die Anzahl aller Einträge aus Deutschland ist {df_de.size}\")\n",
    "df_de.head()"
   ]
  },
  {
   "cell_type": "code",
   "execution_count": null,
   "id": "7821733f",
   "metadata": {},
   "outputs": [],
   "source": [
    "df_de.info()"
   ]
  },
  {
   "cell_type": "code",
   "execution_count": null,
   "id": "550f1d42",
   "metadata": {},
   "outputs": [],
   "source": [
    "#corr_matrix = df_de.select_dtypes(include=['float64']).corr()\n",
    "corr_matrix = df_de.corr().dropna(how='all')\n",
    "features = corr_matrix[\"new_cases\"].abs().sort_values(ascending=False)\n",
    "rel_features = list(features.index[0:10].values)"
   ]
  },
  {
   "cell_type": "code",
   "execution_count": null,
   "id": "6748cd08",
   "metadata": {},
   "outputs": [],
   "source": [
    "rel_features.remove('new_cases_per_million')\n",
    "rel_features.remove('new_cases_smoothed')\n",
    "rel_features.remove('new_cases_smoothed_per_million')\n",
    "rel_features"
   ]
  },
  {
   "cell_type": "code",
   "execution_count": null,
   "id": "b728de24",
   "metadata": {},
   "outputs": [],
   "source": [
    "df_small=df_de[rel_features]\n",
    "df_small.describe()"
   ]
  },
  {
   "cell_type": "code",
   "execution_count": null,
   "id": "d7338ee3",
   "metadata": {},
   "outputs": [],
   "source": [
    "_ = pd.plotting.scatter_matrix(df_small, figsize = [15, 15], s=50, marker = 'D')"
   ]
  },
  {
   "cell_type": "code",
   "execution_count": null,
   "id": "d3276e00",
   "metadata": {},
   "outputs": [],
   "source": [
    "df_de.sort_values(by='date')"
   ]
  },
  {
   "cell_type": "code",
   "execution_count": null,
   "id": "2991ca96",
   "metadata": {},
   "outputs": [],
   "source": [
    "print(f\"Noch {df_de.size} Datensätze\")\n",
    "df_de = df_de.dropna(0)\n",
    "print(f\"Noch {df_de.size} Datensätze\")"
   ]
  },
  {
   "cell_type": "markdown",
   "id": "0e5f480c",
   "metadata": {},
   "source": [
    "## Datenquelle\n",
    "\n",
    "Die verwendeten Daten stammen von [_Our World in Data_](https://ourworldindata.org/) und wurden dem Git-Repository [https://github.com/owid/covid-19-data](https://github.com/owid/covid-19-data) entnommen\n",
    "\n",
    "Details zum Datensatz findet man in der folgenden Publikation:\n",
    "\n",
    "> Hasell, J., Mathieu, E., Beltekian, D. _et al._ A cross-country database of COVID-19 testing. _Sci Data_ **7**, 345 (2020). [https://doi.org/10.1038/s41597-020-00688-8](https://doi.org/10.1038/s41597-020-00688-8)\n",
    "\n"
   ]
  },
  {
   "cell_type": "code",
   "execution_count": null,
   "id": "5480c0db",
   "metadata": {},
   "outputs": [],
   "source": []
  }
 ],
 "metadata": {
  "kernelspec": {
   "display_name": "Python 3",
   "language": "python",
   "name": "python3"
  },
  "language_info": {
   "codemirror_mode": {
    "name": "ipython",
    "version": 3
   },
   "file_extension": ".py",
   "mimetype": "text/x-python",
   "name": "python",
   "nbconvert_exporter": "python",
   "pygments_lexer": "ipython3",
   "version": "3.8.5"
  }
 },
 "nbformat": 4,
 "nbformat_minor": 5
}
