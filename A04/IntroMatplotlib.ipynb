{
 "cells": [
  {
   "cell_type": "markdown",
   "id": "98728186",
   "metadata": {},
   "source": [
    "<figure>\n",
    "  <IMG SRC=\"https://upload.wikimedia.org/wikipedia/commons/thumb/d/d5/Fachhochschule_Südwestfalen_20xx_logo.svg/320px-Fachhochschule_Südwestfalen_20xx_logo.svg.png\" WIDTH=250 ALIGN=\"right\">\n",
    "</figure>\n",
    "\n",
    "# Einführung Machine Learning\n",
    "### Sommersemester 2022\n",
    "Prof. Dr. Heiner Giefers"
   ]
  },
  {
   "cell_type": "code",
   "execution_count": null,
   "id": "56c53c8b",
   "metadata": {},
   "outputs": [],
   "source": [
    "import matplotlib.pyplot as plt\n",
    "x = range(-100,100,5)\n",
    "x2 = [k**2 for k in x]\n",
    "minusx2 = [-k**2 for k in x]\n",
    "plt.plot(x, x2, label=r\"$x^2$\")\n",
    "plt.plot(x, minusx2, label=r\"$-x^2$\")\n",
    "plt.xlabel(\"x\")\n",
    "plt.ylabel(\"y\")\n",
    "plt.ylim(-2000, 2000)\n",
    "plt.xlim(-50, 50)\n",
    "plt.axhline(0) # horiz. Linie\n",
    "plt.axvline(0) # vert. Linie\n",
    "plt.legend()\n",
    "plt.savefig(\"parabeln.pdf\") # Weitere Formate möglich\n",
    "plt.show()"
   ]
  },
  {
   "cell_type": "markdown",
   "id": "41a8c0dc",
   "metadata": {},
   "source": [
    "#### Line Plot"
   ]
  },
  {
   "cell_type": "code",
   "execution_count": null,
   "id": "256d5bed",
   "metadata": {},
   "outputs": [],
   "source": [
    "import numpy as np\n",
    "x = np.linspace(-10,10,20)\n",
    "y = x**2"
   ]
  },
  {
   "cell_type": "code",
   "execution_count": null,
   "id": "4bbfed40",
   "metadata": {},
   "outputs": [],
   "source": [
    "plt.plot(x,y,label=r\"$x^2$\")\n",
    "plt.title(\"Parabel\")\n",
    "plt.legend()"
   ]
  },
  {
   "cell_type": "markdown",
   "id": "314a54ca",
   "metadata": {},
   "source": [
    "#### Scatter Plot"
   ]
  },
  {
   "cell_type": "code",
   "execution_count": null,
   "id": "54e6b6c4",
   "metadata": {},
   "outputs": [],
   "source": [
    "x = np.random.rand(20)\n",
    "y = np.random.rand(20)\n",
    "z = np.random.rand(20)\n",
    "plt.scatter(x,y,c=z)\n",
    "plt.colorbar()"
   ]
  },
  {
   "cell_type": "markdown",
   "id": "e389afcc",
   "metadata": {},
   "source": [
    "#### Histogram"
   ]
  },
  {
   "cell_type": "code",
   "execution_count": null,
   "id": "ec6fb348",
   "metadata": {},
   "outputs": [],
   "source": [
    "y = np.random.rand(200)\n",
    "#y = np.random.normal(0,1,20000)\n",
    "plt.hist(y, bins=10, rwidth=.8)"
   ]
  }
 ],
 "metadata": {
  "kernelspec": {
   "display_name": "Python 3",
   "language": "python",
   "name": "python3"
  },
  "language_info": {
   "codemirror_mode": {
    "name": "ipython",
    "version": 3
   },
   "file_extension": ".py",
   "mimetype": "text/x-python",
   "name": "python",
   "nbconvert_exporter": "python",
   "pygments_lexer": "ipython3",
   "version": "3.8.5"
  }
 },
 "nbformat": 4,
 "nbformat_minor": 5
}
