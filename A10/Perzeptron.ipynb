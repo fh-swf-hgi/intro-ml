{
 "cells": [
  {
   "cell_type": "markdown",
   "id": "63cb6604",
   "metadata": {},
   "source": [
    "<figure>\n",
    "  <IMG SRC=\"https://upload.wikimedia.org/wikipedia/commons/thumb/d/d5/Fachhochschule_Südwestfalen_20xx_logo.svg/320px-Fachhochschule_Südwestfalen_20xx_logo.svg.png\" WIDTH=250 ALIGN=\"right\">\n",
    "</figure>\n",
    "\n",
    "# Einführung Machine Learning\n",
    "### Sommersemester 2022\n",
    "Prof. Dr. Heiner Giefers"
   ]
  },
  {
   "cell_type": "markdown",
   "id": "1b0946df",
   "metadata": {},
   "source": [
    "# Das Perzeptron\n",
    "\n",
    "In diesem Arbeitsblatt wollen wir ein Modell für das Perzeptron entwickeln.\n",
    "Um unsere Implementierung zu testen, wollen wir einen realistischen Datensatz verwenden.\n",
    "Hier bietet sich der Schwertlilien (*Iris*) Datensatz an.\n",
    "Dieser beinhaltet 150 Datenpunkte und drei Klassen, wobei jede Lilienart mit genau 50 Repräsentanten vertreten ist.\n",
    "Die Klassen lauten:\n",
    "- **0** = Iris-Setosa (Borsten-Schwertlilie)\n",
    "- **1** = Iris-Versicolour (Verschiedenfarbige Schwertlilie)\n",
    "- **2** = Iris-Virginica (Verschiedenfarbige Schwertlilie)"
   ]
  },
  {
   "cell_type": "code",
   "execution_count": null,
   "id": "844be756",
   "metadata": {},
   "outputs": [],
   "source": [
    "import numpy as np\n",
    "import pandas as pd\n",
    "import matplotlib.pyplot as plt\n",
    "from sklearn import datasets\n",
    "iris = datasets.load_iris()\n",
    "\n",
    "df = pd.DataFrame(data= np.c_[iris['data'], iris['target']],\n",
    "    columns= [\"Kelchblatt Laenge\", \"Kelchblatt Breite\", \"Kronblatt Laenge\", \"Kronblatt Breite\"] + ['target'])\n",
    "\n",
    "df"
   ]
  },
  {
   "cell_type": "markdown",
   "id": "549d8e79",
   "metadata": {},
   "source": [
    "## Perzeptron Operationen\n",
    "\n",
    "Bevor wir uns dem Datensatz widmen, wollen wir ein Minimalbeispiel \"per Hand\" durchspielen."
   ]
  },
  {
   "cell_type": "code",
   "execution_count": null,
   "id": "26cdf7ee",
   "metadata": {},
   "outputs": [],
   "source": [
    "# Inititalisieren der Parameter b und x\n",
    "b = np.array([.0])\n",
    "w = np.array([.0, .0])\n",
    "\n",
    "# X besteht aus 4 Punkten und 2 Attributen\n",
    "X = np.array([[10,1],[20,2],[40,6],[50,5]])\n",
    "\n",
    "# Die Label y\n",
    "y = np.array([0,0,1,1])\n",
    "\n",
    "# Die Lernregel lautet\n",
    "def update(x, y, w, b, eta=0.5):\n",
    "    # 1. Berechne die Uebertragungsfunktion\n",
    "    z = w@x.T + b\n",
    "    # 2. Berechne die Aktivierungsfunktion\n",
    "    a = (z>0.0)*1.0\n",
    "    # 3. Berechne den Fehler für den aktuellen Datenpunkt\n",
    "    #    und multipliziere ihn mit der Lernrate. Es gilt:\n",
    "    #    - Ausgabe ist 0, Label ist 1 => inkrementiere die Gewichte\n",
    "    #    - Ausgabe ist 1, Label ist 0 => dekrementiere die Gewichte\n",
    "    d = eta * (y-a)\n",
    "    # 4. Korrigiere den Bias Parameter mit dem Fehler-Term\n",
    "    b += d\n",
    "    # 5. Korrigiere den Bias Parameter mit dem Fehler-Term\n",
    "    w += d * x\n",
    "    \n",
    "\n",
    "for i in range(len(X)):\n",
    "    update(X[i], y[i], w, b, eta=0.1)\n",
    "    print(w, b)"
   ]
  },
  {
   "cell_type": "markdown",
   "id": "becff2cf",
   "metadata": {},
   "source": [
    "Wir lassen das Perzeptron nun 100 *Epochen* lernen:"
   ]
  },
  {
   "cell_type": "code",
   "execution_count": null,
   "id": "dbef6661",
   "metadata": {},
   "outputs": [],
   "source": [
    "for k in range(100):\n",
    "    for i in range(len(X)):\n",
    "        update(X[i], y[i], w, b, eta=0.1)\n",
    "\n",
    "print(\"Die Parameter lauten:\", w, b)"
   ]
  },
  {
   "cell_type": "markdown",
   "id": "1452459d",
   "metadata": {},
   "source": [
    "Welche Vorhersage liefern die Parameter für unsere Daten?"
   ]
  },
  {
   "cell_type": "code",
   "execution_count": null,
   "id": "22a875ec",
   "metadata": {},
   "outputs": [],
   "source": [
    "z = w@X.T + b\n",
    "a = (z>0.0)*1.0\n",
    "a"
   ]
  },
  {
   "cell_type": "markdown",
   "id": "dd8e85e6",
   "metadata": {},
   "source": [
    "Wir können die Punkte und die Entscheidungsgrenze nun visualisieren:"
   ]
  },
  {
   "cell_type": "code",
   "execution_count": null,
   "id": "40f46ea3",
   "metadata": {},
   "outputs": [],
   "source": [
    "a = - w[0] / w[1]\n",
    "xx = np.linspace(10, 50)\n",
    "yy = a * xx - (b[0]) / w[1]\n",
    "plt.plot(xx,yy)\n",
    "plt.scatter(X[y==0,0],X[y==0,1], c='b', marker='x')\n",
    "plt.scatter(X[y==1,0],X[y==1,1], c='r', marker='o')\n",
    "plt.show()"
   ]
  },
  {
   "cell_type": "markdown",
   "id": "301ad424",
   "metadata": {},
   "source": [
    "Schauen wir uns nun an, welche Parameter das Perzeptron-Modell aus *Sklearn* liefert:"
   ]
  },
  {
   "cell_type": "code",
   "execution_count": null,
   "id": "59424680",
   "metadata": {},
   "outputs": [],
   "source": [
    "from sklearn.linear_model import Perceptron as SKPerceptron\n",
    "clf = SKPerceptron(tol=1e-3, random_state=0)\n",
    "clf.fit(X, y)\n",
    "clf.coef_, clf.intercept_"
   ]
  },
  {
   "cell_type": "markdown",
   "id": "2697f843",
   "metadata": {},
   "source": [
    "Wir plotten nun die Entscheidungsgrenze mit der Funktion `plot_decision_regions` aus dem Paket `mlktend`.\n",
    "Das müssen Sie ggf. zuerst installieren."
   ]
  },
  {
   "cell_type": "code",
   "execution_count": null,
   "id": "606f2e2a",
   "metadata": {},
   "outputs": [],
   "source": [
    "%matplotlib inline\n",
    "from mlxtend.plotting import plot_decision_regions\n",
    "\n",
    "plot_decision_regions(X, y, clf=clf)\n",
    "plt.show()"
   ]
  },
  {
   "cell_type": "markdown",
   "id": "4e9d6c24",
   "metadata": {},
   "source": [
    "## Die Klassse Perzeptron\n",
    "\n",
    "Nun wollen wir eine eigene Perzeptron Klasse entwickeln.\n",
    "Die Namen der Member-Attribute und Funktionen ist an *Sklearn* angelegt."
   ]
  },
  {
   "cell_type": "code",
   "execution_count": null,
   "id": "b0bbe88e",
   "metadata": {},
   "outputs": [],
   "source": [
    "class Perceptron(object):\n",
    "    \"\"\"Perzeptron Klassifikator\n",
    "\n",
    "    Member (Namen sind angelehnt an Sklearn)\n",
    "    ------------\n",
    "    eta0: Lernrate\n",
    "    max_iter : Maximale Anzahl der Epochen beim Trainieren\n",
    "    self.intercept_: Bias Parameter\n",
    "    self.coef_: Modellparameter\n",
    "\n",
    "    \"\"\"\n",
    "\n",
    "    def __init__(self, eta0=0.1, max_iter=10):\n",
    "        self.eta0 = eta0\n",
    "        self.max_iter = max_iter\n",
    "        self.intercept_ = None\n",
    "        self.coef_ = None\n",
    "\n",
    "    def z(self, X):\n",
    "        \"\"\"Uebertragungsfunktion\"\"\"\n",
    "        #a = self.intercept_ + np.dot(X,self.coef_)\n",
    "        a = self.intercept_ + self.coef_@X.T\n",
    "        return a\n",
    "\n",
    "    def predict(self, X):\n",
    "        \"\"\"Forward Pass\"\"\"\n",
    "        Z = self.z(X)\n",
    "        # Aktivierungsfunktion\n",
    "        a = (Z>=0.0)*1.0\n",
    "        return a.ravel()\n",
    "    \n",
    "    def fit(self, X, y):\n",
    "        \"\"\"Fit-Funktion\n",
    "\n",
    "        Parameter\n",
    "        ----------\n",
    "        X : Trainings-Datensatz\n",
    "            2-dimensionales NumPy Array der Groesse [m (#Datenpunkte), n (#Attribute)]\n",
    "        y : Label des Trainings-Datensatzes\n",
    "            1-dimensionales NumPy Array der Groesse [m (#Datenpunkte)]\n",
    "        \"\"\"\n",
    "        # Parameter initialisieren\n",
    "        self.intercept_ = np.array([0.0])\n",
    "        self.coef_ = np.array([np.zeros(X.shape[1])])\n",
    "\n",
    "        \n",
    "        for self.n_iter in range(self.max_iter): # Laufe maximale Amzahl von Iterationen\n",
    "            for xi, yi in zip(X, y): # Eine Zeile aus X, einen Eintrag aus y\n",
    "                dwi = self.eta0 * (yi - self.predict(xi))\n",
    "                self.coef_ += dwi * xi # Broadcasting, Aller coef_ werden geupdatet\n",
    "                self.intercept_ += dwi # Broadcasting, Aller intercept_ werden geupdatet\n",
    "            \n",
    "        return self"
   ]
  },
  {
   "cell_type": "markdown",
   "id": "12ebf0c3",
   "metadata": {},
   "source": [
    "Nun kommen wir zu unserem Schwertlilien Datensatz.\n",
    "Damit wir nur zwei Klassen unterscheiden müssen, selektieren wir die ersten 100 Datenpunkte (und verwerfen damit die letzten 50 mit der 3. Klasse)\n",
    "Wir selektieren ebenfalls nur die ersten beiden Spalten der Attribute, also die Kelchblatt Länge und die Kelchblatt Breite."
   ]
  },
  {
   "cell_type": "code",
   "execution_count": null,
   "id": "fb30654d",
   "metadata": {},
   "outputs": [],
   "source": [
    "X = iris.data[0:100, [0,1]]\n",
    "y = iris.target[:100]\n",
    "\n",
    "x_min, x_max = X[:, 0].min() - .5, X[:, 0].max() + .5\n",
    "y_min, y_max = X[:, 1].min() - .5, X[:, 1].max() + .5\n",
    "\n",
    "plt.figure(2, figsize=(8, 6))\n",
    "plt.clf()\n",
    "\n",
    "# Plot the training points\n",
    "plt.scatter(X[:, 0], X[:, 1], c=y, cmap=plt.cm.coolwarm) #, cmap=plt.cm.Set1, edgecolor='k')\n",
    "plt.xlabel('Kelchblatt Laenge  [cm]') # Spalte 0\n",
    "plt.ylabel('Kelchblatt Breite  [cm]') # Spalte 1\n",
    "#plt.ylabel('Kronblatt Laenge  [cm]') # Spalte 2\n",
    "\n",
    "plt.xlim(x_min, x_max)\n",
    "plt.ylim(y_min, y_max)\n",
    "plt.show()"
   ]
  },
  {
   "cell_type": "code",
   "execution_count": null,
   "id": "a14e576a",
   "metadata": {},
   "outputs": [],
   "source": [
    "model = Perceptron(eta0=0.1, max_iter=40)\n",
    "model.fit(X, y)"
   ]
  },
  {
   "cell_type": "code",
   "execution_count": null,
   "id": "babf1aec",
   "metadata": {},
   "outputs": [],
   "source": [
    "%matplotlib inline\n",
    "from mlxtend.plotting import plot_decision_regions\n",
    "\n",
    "plot_decision_regions(X, y, clf=model)\n",
    "plt.xlabel('Kelchblatt Laenge [cm]')\n",
    "plt.ylabel('Kelchblatt Breite [cm]')\n",
    "plt.legend(loc='upper left')\n",
    "\n",
    "plt.show()"
   ]
  },
  {
   "cell_type": "markdown",
   "id": "e49c24f1",
   "metadata": {},
   "source": [
    "**Aufgabe:** Wir sehen, dass die Entscheidungsgrenze noch nicht perfekt ist.\n",
    "Wie hoch ist die *Classification Accuracy*?"
   ]
  },
  {
   "cell_type": "code",
   "execution_count": null,
   "id": "7d20180b",
   "metadata": {
    "deletable": false,
    "nbgrader": {
     "grade": false,
     "grade_id": "cell-a292391b2bbc8f4e",
     "locked": false,
     "schema_version": 3,
     "solution": true,
     "task": false
    }
   },
   "outputs": [],
   "source": [
    "ca = None\n",
    "# YOUR CODE HERE\n",
    "raise NotImplementedError()\n",
    "ca"
   ]
  },
  {
   "cell_type": "code",
   "execution_count": null,
   "id": "43e3dd2a",
   "metadata": {
    "deletable": false,
    "editable": false,
    "nbgrader": {
     "grade": true,
     "grade_id": "cell-fdaf19da6a91d5fb",
     "locked": true,
     "points": 0,
     "schema_version": 3,
     "solution": false,
     "task": false
    }
   },
   "outputs": [],
   "source": [
    "assert 'predict' in _i\n",
    "assert ca == 0.53"
   ]
  },
  {
   "cell_type": "markdown",
   "id": "5a44bcfd",
   "metadata": {},
   "source": [
    "**Aufgabe:** Wie Lauten die Modellparameter (und der Bias Parameter)?"
   ]
  },
  {
   "cell_type": "code",
   "execution_count": null,
   "id": "9803bd5c",
   "metadata": {
    "deletable": false,
    "nbgrader": {
     "grade": true,
     "grade_id": "cell-a09d19cbed295281",
     "locked": false,
     "points": 0,
     "schema_version": 3,
     "solution": true,
     "task": false
    }
   },
   "outputs": [],
   "source": [
    "# YOUR CODE HERE\n",
    "raise NotImplementedError()"
   ]
  },
  {
   "cell_type": "markdown",
   "id": "3e219598",
   "metadata": {},
   "source": [
    "**Aufgabe:** Erweitere die Klasse `Perceptron` um folgende Funktionen:\n",
    "1. Es soll eine Methode `score` geben, mit der die Vorhersage des Modells für eine Menge von Datenpunkten berechnet werden kann.\n",
    "2. Die Fit-Methode soll frühzeitig abgebrochen werden, wenn die Update Terme alle (nahezu) Null sind. In dem Fall werden die Parameter nicht weiter optimiert und die Fit-Methode kann vorzeitig beendet werden. Speichern Sie die tatsächliche Anzahl der Epochen in dem Attribut `n_iter`."
   ]
  },
  {
   "cell_type": "code",
   "execution_count": null,
   "id": "7387dec7",
   "metadata": {
    "deletable": false,
    "nbgrader": {
     "grade": true,
     "grade_id": "cell-2681900d8a55df71",
     "locked": false,
     "points": 0,
     "schema_version": 3,
     "solution": true,
     "task": false
    }
   },
   "outputs": [],
   "source": [
    "class Perceptron(object):\n",
    "    \"\"\"Perzeptron Klassifikator\n",
    "\n",
    "    Member (Namen sind angelehnt an Sklearn)\n",
    "    ------------\n",
    "    eta0: Lernrate\n",
    "    max_iter : Maximale Anzahl der Epochen beim Trainieren\n",
    "    self.intercept_: Bias Parameter\n",
    "    self.coef_: Modellparameter\n",
    "\n",
    "    \"\"\"\n",
    "\n",
    "    def __init__(self, eta0=0.1, max_iter=10):\n",
    "        self.eta0 = eta0\n",
    "        self.max_iter = max_iter\n",
    "        self.intercept_ = None\n",
    "        self.coef_ = None\n",
    "\n",
    "    def z(self, X):\n",
    "        \"\"\"Uebertragungsfunktion\"\"\"\n",
    "        # = self.intercept_ + np.dot(X,self.coef_)\n",
    "        a = self.intercept_ + self.coef_@X.T\n",
    "        return a\n",
    "\n",
    "    def predict(self, X):\n",
    "        \"\"\"Forward Pass\"\"\"\n",
    "        Z = self.z(X)\n",
    "        # Aktivierungsfunktion\n",
    "        return (Z>=0.0)*1.0\n",
    "    \n",
    "    # YOUR CODE HERE\n",
    "    raise NotImplementedError()"
   ]
  },
  {
   "cell_type": "code",
   "execution_count": null,
   "id": "61ec3e1d",
   "metadata": {},
   "outputs": [],
   "source": [
    "s2 = 2\n",
    "if s2==1:\n",
    "    s2_text = \"Kelchblatt Breite [cm]\"\n",
    "else:\n",
    "    s2_text = \"Kronblatt Laenge [cm]\"\n",
    "X = iris.data[0:100, [0,s2]]\n",
    "y = iris.target[:100]\n",
    "\n",
    "x_min, x_max = X[:, 0].min() - .5, X[:, 0].max() + .5\n",
    "y_min, y_max = X[:, 1].min() - .5, X[:, 1].max() + .5\n",
    "\n",
    "plt.figure(2, figsize=(8, 6))\n",
    "plt.clf()\n",
    "\n",
    "# Plot the training points\n",
    "plt.scatter(X[:, 0], X[:, 1], c=y, cmap=plt.cm.coolwarm) #, cmap=plt.cm.Set1, edgecolor='k')\n",
    "plt.xlabel('Kelchblatt Laenge [cm]') # Spalte 0\n",
    "plt.ylabel(s2_text)\n",
    "\n",
    "plt.xlim(x_min, x_max)\n",
    "plt.ylim(y_min, y_max)\n",
    "plt.show()"
   ]
  },
  {
   "cell_type": "code",
   "execution_count": null,
   "id": "1a70dd27",
   "metadata": {},
   "outputs": [],
   "source": [
    "model = Perceptron(eta0=0.1, max_iter=1000)\n",
    "model.fit(X, y), model.n_iter"
   ]
  },
  {
   "cell_type": "code",
   "execution_count": null,
   "id": "57549eaf",
   "metadata": {},
   "outputs": [],
   "source": [
    "%matplotlib inline\n",
    "from mlxtend.plotting import plot_decision_regions\n",
    "\n",
    "plot_decision_regions(X, y, clf=model)\n",
    "plt.xlabel('Kelchblatt Laenge  [cm]')\n",
    "plt.ylabel(s2_text)\n",
    "plt.legend(loc='upper left')\n",
    "\n",
    "plt.show()"
   ]
  }
 ],
 "metadata": {
  "kernelspec": {
   "display_name": "Python 3 (ipykernel)",
   "language": "python",
   "name": "python3"
  },
  "language_info": {
   "codemirror_mode": {
    "name": "ipython",
    "version": 3
   },
   "file_extension": ".py",
   "mimetype": "text/x-python",
   "name": "python",
   "nbconvert_exporter": "python",
   "pygments_lexer": "ipython3",
   "version": "3.8.5"
  }
 },
 "nbformat": 4,
 "nbformat_minor": 5
}
