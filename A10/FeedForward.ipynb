{
 "cells": [
  {
   "cell_type": "markdown",
   "id": "752dcf56",
   "metadata": {},
   "source": [
    "<figure>\n",
    "  <IMG SRC=\"https://upload.wikimedia.org/wikipedia/commons/thumb/d/d5/Fachhochschule_Südwestfalen_20xx_logo.svg/320px-Fachhochschule_Südwestfalen_20xx_logo.svg.png\" WIDTH=250 ALIGN=\"right\">\n",
    "</figure>\n",
    "\n",
    "# Einführung Machine Learning\n",
    "### Sommersemester 2022\n",
    "Prof. Dr. Heiner Giefers"
   ]
  },
  {
   "cell_type": "code",
   "execution_count": null,
   "id": "1a1e98a0",
   "metadata": {},
   "outputs": [],
   "source": [
    "import numpy as np\n",
    "\n",
    "D = np.array([[1,-1,2],[1,3,4],[0,5,6],[1,-7,8],[0,9,10]])\n",
    "\n",
    "i0 = np.array([[1,2]])"
   ]
  },
  {
   "cell_type": "code",
   "execution_count": null,
   "id": "40c1df75",
   "metadata": {},
   "outputs": [],
   "source": [
    "W1 = np.array([[1,1],[2,0],[1,2],[3,1]])\n",
    "W2 = np.array([[-4,-1,2,-2],[8,3,-2,0]])\n",
    "W3 = np.array([[3,-1]])\n",
    "\n",
    "b1 = np.array([0,1,1,-1])\n",
    "b2 = np.array([-4,2])\n",
    "b3 = np.array([2])\n",
    "\n",
    "i1 = i0@W1.T+b1\n",
    "i1 = np.where(i1 > 0, 1, 0) \n",
    "print(i1)\n",
    "\n",
    "i2 = i1@W2.T+b2\n",
    "i2 = np.where(i2 > 0, 1, 0) \n",
    "print(i2)\n",
    "\n",
    "i3 = i2@W3.T+b3\n",
    "i3 = np.where(i3 > 0, 1, 0) \n",
    "print(i3)"
   ]
  },
  {
   "cell_type": "code",
   "execution_count": null,
   "id": "90b90707",
   "metadata": {},
   "outputs": [],
   "source": [
    "def sigmoid(z):\n",
    "    return 1.0/(1+np.exp(-z))\n",
    "\n",
    "W1 = np.array([[1,1],[2,0],[1,2]])\n",
    "W2 = np.array([[-4,-1,2],[8,3,-2]])\n",
    "W3 = np.array([[3,-2]])\n",
    "\n",
    "b1 = np.array([0,1,1])\n",
    "b2 = np.array([-4,2])\n",
    "b3 = np.array([2])\n",
    "\n",
    "i1 = i0@W1.T+b1\n",
    "i1 = np.where(i1 > 0, 1, 0) \n",
    "print(i1)\n",
    "\n",
    "i2 = i1@W2.T+b2\n",
    "i2 = np.where(i2 > 0, 1, 0) \n",
    "print(i2)\n",
    "\n",
    "i3 = i2@W3.T+b3\n",
    "i3 = sigmoid(i3)\n",
    "print(i3)"
   ]
  },
  {
   "cell_type": "code",
   "execution_count": null,
   "id": "83033f50",
   "metadata": {},
   "outputs": [],
   "source": []
  }
 ],
 "metadata": {
  "kernelspec": {
   "display_name": "Python 3",
   "language": "python",
   "name": "python3"
  },
  "language_info": {
   "codemirror_mode": {
    "name": "ipython",
    "version": 3
   },
   "file_extension": ".py",
   "mimetype": "text/x-python",
   "name": "python",
   "nbconvert_exporter": "python",
   "pygments_lexer": "ipython3",
   "version": "3.7.6"
  }
 },
 "nbformat": 4,
 "nbformat_minor": 5
}
