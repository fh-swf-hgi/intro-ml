{
 "cells": [
  {
   "cell_type": "markdown",
   "id": "b89225d7",
   "metadata": {},
   "source": [
    "<figure>\n",
    "  <IMG SRC=\"https://upload.wikimedia.org/wikipedia/commons/thumb/d/d5/Fachhochschule_Südwestfalen_20xx_logo.svg/320px-Fachhochschule_Südwestfalen_20xx_logo.svg.png\" WIDTH=250 ALIGN=\"right\">\n",
    "</figure>\n",
    "\n",
    "# Einführung Machine Learning\n",
    "### Sommersemester 2022\n",
    "Prof. Dr. Heiner Giefers"
   ]
  },
  {
   "cell_type": "markdown",
   "metadata": {},
   "source": [
    "# Fashion MNIST mit Neuronalen Netzen\n",
    "\n",
    "In diesem Arbeitsblatt wollen wir uns erneut den Fashion MNIST Datensatz vornehmen, den wir schon aus dem 7. Arbeitsblatt kennen.\n",
    "Dort haben wir das Problem mit Multinomialer Logistischer Regression gelöst.\n",
    "Hier wollen wir ein Multi-Layer Perceptron einsetzen, also ein recht einfaches, mehrschichtiges (und voll-vermaschtes) Neuronale Netz.\n",
    "Wir werden später sehen, dass sich eine andere Form von Neuronalen Netzen, die sogenannten Faltungsnetze (oder *Convolutional Neural Networks*, CNN) besser für solche Aufgaben eignen.\n",
    "\n",
    "Zunächst importieren wir den Datensatz aus Tensorflow und passen die Daten an."
   ]
  },
  {
   "cell_type": "code",
   "execution_count": null,
   "metadata": {},
   "outputs": [],
   "source": [
    "import tensorflow as tf\n",
    "\n",
    "#Datensatz aus Keras laden\n",
    "(X_train, y_train), (X_test, y_test) = tf.keras.datasets.fashion_mnist.load_data()\n",
    "\n",
    "#Pixelwerte nach [0,1] skalieren\n",
    "X_train = X_train / 255.0\n",
    "X_test = X_test / 255.0\n",
    "\n",
    "# Mache aus den 2D Bildern 1D Vektoren\n",
    "X_train = X_train.reshape(-1,28*28,1)[:,:,0]\n",
    "X_test = X_test.reshape(-1,28*28,1)[:,:,0]"
   ]
  },
  {
   "cell_type": "markdown",
   "metadata": {},
   "source": [
    "Der MLPClassifier aus **Scikit-learn**kann für binäre, Multi-Klassen und Multi-Label Klassifizierung verwendet werden. Die Aktivierungsfunktion der Ausgabeschicht wird basierend auf dem Typ von `y` ausgewählt:\n",
    "\n",
    "- **Multi-Klassen**: Es sind verschiedene Klassen möglich, von denen eine wahr ist. `y` kann kann einen Wert annehmen (`y` ist ein Integer) $\\rightarrow$ *Softmax*\n",
    "- **Multi-Label oder binär**: Es sind verschiedene Klassen möglich, von denen mehrere wahr sein können (`y` ist ein Vektor von \"Einzel-Wahrscheinlichkeiten\") $\\rightarrow$ *Sigmoidfunktion*\n",
    "- **Regression**: `y` ist ein Wert aus $\\mathbb{R}$ $\\rightarrow$ *Identitätsfunktion* ($f(x)=x$)\n"
   ]
  },
  {
   "cell_type": "markdown",
   "metadata": {},
   "source": [
    "Der MLPClassifier vervwendet als Trainings-Algorithmus *Stochastic Gradient Descent* (SGD), *Adam* oder *L-BFGS*.\n",
    "SGD kennen wir bereits.\n",
    "Adam ist eine Weiterentwicklung von SGD, bei der für einzelne Attribute die Lernrate entsprechend optimiert wird.\n",
    "Dass kann dabei helfen, für jedes Merkmal die *passende* Schrittweite zu finden.\n",
    "\n",
    "L-BFGS ist ebenfalls ein itteratives Lösungsverfahren und gehört zur Klasse der sogenannten *Quasi-Newton-Verfahren*.\n",
    "Anders als SGD-basierte verfahren benötigt L-BFGS in jedem Iterationsschritt alle Daten, konvergiert aber in vielen Fällen trozdem recht schnell zum Minimum."
   ]
  },
  {
   "cell_type": "markdown",
   "metadata": {},
   "source": [
    "Da das Trainieren eines MLP Modells schon recht zeitaufwändig ist, verwenden wir in der folgenden Code-Zelle das Modul *Pickle*, um das Modell in eine Datei zu speichern.\n",
    "Achten Sie darauf, die Datei zu löschen, wenn Sie das Modell erneut trainieren möchten."
   ]
  },
  {
   "cell_type": "code",
   "execution_count": null,
   "metadata": {},
   "outputs": [],
   "source": [
    "from sklearn.neural_network import MLPClassifier\n",
    "import os, pickle\n",
    "modelname = \"model.pickle\"\n",
    "\n",
    "if os.path.isfile(modelname):\n",
    "    clf = pickle.load(open(modelname, \"rb\"))\n",
    "else:\n",
    "    clf = MLPClassifier(solver='sgd', hidden_layer_sizes=(128,), random_state=1)\n",
    "    clf.fit(X_train, y_train)\n",
    "    pickle.dump(clf, open(modelname, \"wb\"))"
   ]
  },
  {
   "cell_type": "code",
   "execution_count": null,
   "metadata": {},
   "outputs": [],
   "source": [
    "clf.score(X_test, y_test)"
   ]
  },
  {
   "cell_type": "code",
   "execution_count": null,
   "metadata": {},
   "outputs": [],
   "source": [
    "# Zum Löschen der Modell-Datei folgende Zeite un-kommentieren:\n",
    "# !rm model.pickle"
   ]
  },
  {
   "cell_type": "markdown",
   "metadata": {},
   "source": [
    "## Fashion MNIST mit Keras\n",
    "\n",
    "Nun Wollen wir statt Scikit-learn Tensorflow mit Keras verwenden, um ein MLP für Fashion MNIST zu trainieren.\n",
    "Zuerst verwenden wir die **Sequential API**:"
   ]
  },
  {
   "cell_type": "code",
   "execution_count": null,
   "metadata": {},
   "outputs": [],
   "source": [
    "from tensorflow import keras\n",
    "\n",
    "#Datensatz aus Keras laden\n",
    "(X_train, y_train), (X_test, y_test) = tf.keras.datasets.fashion_mnist.load_data()\n",
    "\n",
    "#Pixelwerte nach [0,1] skalieren\n",
    "X_train = X_train / 255.0\n",
    "X_test = X_test / 255.0\n",
    "\n",
    "#Modell definieren\n",
    "model = keras.Sequential()\n",
    "model.add(keras.layers.Flatten(input_shape=(28, 28)))\n",
    "model.add(keras.layers.Dense(128, activation=tf.nn.relu))\n",
    "model.add(keras.layers.Dense(10, activation=tf.nn.softmax))\n",
    "\n",
    "#Modell erzeugen\n",
    "model.compile('sgd','sparse_categorical_crossentropy',['accuracy'])\n",
    "\n",
    "#Modell trainieren\n",
    "model.fit(X_train, y_train, epochs=10)\n",
    "\n",
    "#Trainiertes Modell auswerten\n",
    "test_loss, test_acc = model.evaluate (X_test, y_test)\n",
    "print('Test accuracy:', test_acc)"
   ]
  },
  {
   "cell_type": "code",
   "execution_count": null,
   "metadata": {},
   "outputs": [],
   "source": [
    "model.summary()"
   ]
  },
  {
   "cell_type": "markdown",
   "metadata": {},
   "source": [
    "Und nun die **Functional API**:"
   ]
  },
  {
   "cell_type": "code",
   "execution_count": null,
   "metadata": {},
   "outputs": [],
   "source": [
    "#Datensatz aus Keras laden\n",
    "(X_train, y_train), (X_test, y_test) = tf.keras.datasets.fashion_mnist.load_data()\n",
    "\n",
    "#Pixelwerte nach [0,1] skalieren\n",
    "X_train = X_train / 255.0\n",
    "X_test = X_test / 255.0\n",
    "\n",
    "#Funktionale abhängigkeiten\n",
    "inputs = keras.Input(shape=(28, 28))\n",
    "finputs = keras.layers.Flatten()(inputs)\n",
    "l1 = keras.layers.Dense(128, activation=tf.nn.relu)(finputs)\n",
    "outputs = keras.layers.Dense(10, activation=tf.nn.softmax)(l1)\n",
    "\n",
    "#Modell definieren\n",
    "model = keras.Model(inputs, outputs)\n",
    "\n",
    "#Modell erzeugen\n",
    "model.compile('sgd','sparse_categorical_crossentropy',['accuracy'])\n",
    "\n",
    "#Modell trainieren\n",
    "model.fit(X_train, y_train, epochs=5)\n",
    "\n",
    "#Trainiertes Modell auswerten\n",
    "test_loss, test_acc = model.evaluate (X_test, y_test)\n",
    "print('Test accuracy:', test_acc)"
   ]
  },
  {
   "cell_type": "markdown",
   "metadata": {},
   "source": [
    "### Referenzen\n",
    "\n",
    "[1] Tensorflow.org, *Basic classification: Classify images of clothing*, tensorflow.org/tutorials/keras/classification, 2021\n"
   ]
  }
 ],
 "metadata": {
  "kernelspec": {
   "display_name": "Python 3 (ipykernel)",
   "language": "python",
   "name": "python3"
  },
  "language_info": {
   "codemirror_mode": {
    "name": "ipython",
    "version": 3
   },
   "file_extension": ".py",
   "mimetype": "text/x-python",
   "name": "python",
   "nbconvert_exporter": "python",
   "pygments_lexer": "ipython3",
   "version": "3.8.5"
  }
 },
 "nbformat": 4,
 "nbformat_minor": 4
}
