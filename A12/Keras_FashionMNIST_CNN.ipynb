{
 "cells": [
  {
   "cell_type": "markdown",
   "id": "52174f08",
   "metadata": {},
   "source": [
    "<figure>\n",
    "  <IMG SRC=\"https://upload.wikimedia.org/wikipedia/commons/thumb/d/d5/Fachhochschule_Südwestfalen_20xx_logo.svg/320px-Fachhochschule_Südwestfalen_20xx_logo.svg.png\" WIDTH=250 ALIGN=\"right\">\n",
    "</figure>\n",
    "\n",
    "# Einführung Machine Learning\n",
    "### Sommersemester 2022\n",
    "Prof. Dr. Heiner Giefers"
   ]
  },
  {
   "cell_type": "markdown",
   "metadata": {},
   "source": [
    "## Fashion MNIST mit Keras CNN"
   ]
  },
  {
   "cell_type": "markdown",
   "metadata": {},
   "source": [
    "In diesem Notebook geht es um einen Datensatz, den wir schon aus vorherigen Aufgaben kennen, nämlich dem *Fashion MNIST* Datensatz.\n",
    "An dieser Stelle wollen wir allerdings statt eine Multi-Klassen Logistischen Regression oder eines MLPs ein Faltungsnetz (oder auch *Convolutional Neural Network*, CNN) einsetzen.\n",
    "\n",
    "Um den Code so kompakt wie möglich zu halten, verwenden wir die Keras API.\n",
    "Zusätzlich benötigen wir Funktionen aus NumPy und Matplotlib."
   ]
  },
  {
   "cell_type": "code",
   "execution_count": null,
   "metadata": {},
   "outputs": [],
   "source": [
    "# TensorFlow und tf.keras\n",
    "import tensorflow as tf\n",
    "from tensorflow import keras\n",
    "\n",
    "# Hilfsbibliotheken\n",
    "import numpy as np\n",
    "import matplotlib.pyplot as plt\n",
    "\n",
    "print(tf.__version__)\n",
    "%load_ext tensorboard"
   ]
  },
  {
   "cell_type": "markdown",
   "metadata": {},
   "source": [
    "Der Fashion MNIST Datensatz ist als Standard-Beispiel über die Keras API erhältlich.\n",
    "Daher können wir ihn komfortabel über einen Keras-Aufruf herunterladen und direkt auf Trainings- und Testdatensätze aufteilen:"
   ]
  },
  {
   "cell_type": "code",
   "execution_count": null,
   "metadata": {},
   "outputs": [],
   "source": [
    "fashion_mnist = keras.datasets.fashion_mnist\n",
    "(train_images, train_labels), (test_images, test_labels) = fashion_mnist.load_data()\n",
    "\n",
    "train_images = train_images.reshape(train_images.shape[0], train_images.shape[1], train_images.shape[2], 1)\n",
    "test_images = test_images.reshape(test_images.shape[0], test_images.shape[1], test_images.shape[2], 1)"
   ]
  },
  {
   "cell_type": "markdown",
   "metadata": {},
   "source": [
    "Nun machen wir aus dem kategorischen Integer Labeln einen Vektor aus *One-Hot* kodierten Labeln."
   ]
  },
  {
   "cell_type": "code",
   "execution_count": null,
   "metadata": {},
   "outputs": [],
   "source": [
    "train_labels_ohe = tf.one_hot(train_labels, depth=10)\n",
    "test_labels_ohe = tf.one_hot(test_labels, depth=10)\n",
    "print(test_labels_ohe[1])\n",
    "print(test_labels[1])"
   ]
  },
  {
   "cell_type": "markdown",
   "metadata": {},
   "source": [
    "Wie man sieht, haben wir 60.000 Bilder im Trainings- und 10.000 Bilder im Testdatensatz."
   ]
  },
  {
   "cell_type": "code",
   "execution_count": null,
   "metadata": {},
   "outputs": [],
   "source": [
    "print(train_images.shape)\n",
    "print(test_images.shape)"
   ]
  },
  {
   "cell_type": "markdown",
   "metadata": {},
   "source": [
    "Ein zufälliges Bild aus den Trainingsdaten sieht so aus:"
   ]
  },
  {
   "cell_type": "code",
   "execution_count": null,
   "metadata": {},
   "outputs": [],
   "source": [
    "plt.imshow(train_images[np.random.randint(0,train_images.shape[0])].reshape(28,28), cmap='gray')"
   ]
  },
  {
   "cell_type": "markdown",
   "metadata": {},
   "source": [
    "Die 28x28 Pixel großen Bilder bestehen aus 8-bit Grauwerten.\n",
    "Um die Piwelwerte in den Bereich $[0,1]$ zu skalieren, teilen wir alle Pixel durch 255."
   ]
  },
  {
   "cell_type": "code",
   "execution_count": null,
   "metadata": {},
   "outputs": [],
   "source": [
    "#Pixelwerte nach [0,1] skalieren\n",
    "train_images = train_images / 255.0\n",
    "test_images = test_images / 255.0"
   ]
  },
  {
   "cell_type": "markdown",
   "metadata": {},
   "source": [
    "Nun erzeugen wir ein sequentielles Keras Modell:"
   ]
  },
  {
   "cell_type": "code",
   "execution_count": null,
   "metadata": {},
   "outputs": [],
   "source": [
    "model = keras.Sequential()"
   ]
  },
  {
   "cell_type": "markdown",
   "metadata": {},
   "source": [
    "Zu diesem Modell können wir nun mit `model.add` Schichten hinzufügen.\n",
    "Entwerfen Sie selbst eine Mehrschichtiges neuronales Netz.\n",
    "Wählen Sie die Anzahl der Neuronen und die Aktivierungsfunktionen der einzelnen Schichten aus."
   ]
  },
  {
   "cell_type": "code",
   "execution_count": null,
   "metadata": {},
   "outputs": [],
   "source": [
    "model.add(tf.keras.layers.Conv2D(filters=32, kernel_size=2, padding='same', activation='relu', input_shape=(28,28,1))) \n",
    "model.add(tf.keras.layers.MaxPooling2D(pool_size=2))\n",
    "model.add(tf.keras.layers.Dropout(0.3))\n",
    "model.add(tf.keras.layers.Conv2D(filters=16, kernel_size=2, padding='same', activation='relu'))\n",
    "model.add(tf.keras.layers.MaxPooling2D(pool_size=2))\n",
    "model.add(tf.keras.layers.Dropout(0.3))\n",
    "model.add(tf.keras.layers.Flatten())\n",
    "model.add(tf.keras.layers.Dense(64, activation='relu'))\n",
    "model.add(tf.keras.layers.Dropout(0.5))\n",
    "model.add(tf.keras.layers.Dense(10, activation='softmax'))\n",
    "model.summary()"
   ]
  },
  {
   "cell_type": "code",
   "execution_count": null,
   "metadata": {},
   "outputs": [],
   "source": [
    "# Mit dieser Zelle koennen vorherige Log- und Modell-Dateien geloescht werden\n",
    "#'''\n",
    "!rm ./FashionMNIST_CNN.h5\n",
    "!rm -rf ./logs/*\n",
    "#'''"
   ]
  },
  {
   "cell_type": "code",
   "execution_count": null,
   "metadata": {},
   "outputs": [],
   "source": [
    "import os\n",
    "reuse = True\n",
    "if(reuse == True and os.path.isfile(\"./FashionMNIST_CNN.h5\")):\n",
    "    model.load_weights(\"./FashionMNIST_CNN.h5\")\n",
    "\n",
    "\n",
    "import datetime\n",
    "logdir = os.path.join(\"logs\", datetime.datetime.now().strftime(\"%Y%m%d-%H%M%S\"))\n",
    "tensorboard_callback = tf.keras.callbacks.TensorBoard(logdir, histogram_freq=1)\n"
   ]
  },
  {
   "cell_type": "markdown",
   "metadata": {},
   "source": [
    "Um das Modell zu erzeugen, müssen einige wesentliche Parameter definiert werden:\n",
    "\n",
    "`optimizer` legt die Art Algorithmus zur Minimierung der Kostenfunktion fest, z.B.\n",
    "- Adagrad\n",
    "- Adam\n",
    "- SGD\n",
    "- RMSprop\n",
    "\n",
    "`loss` bestimmt die Art der Kostenfunktion:\n",
    "- `binary_crossentropy` für die Klassen 0 und 1\n",
    "- `categorical_crossentropy` für one-hot-kodierte Klassen (Beispiel: $[0,0,1,0]$)\n",
    "- `sparse_categorical_crossentropy` für integer-kodierte Klassen (Beispiel: $2$)\n",
    "\n",
    "\n",
    "\n"
   ]
  },
  {
   "cell_type": "code",
   "execution_count": null,
   "metadata": {},
   "outputs": [],
   "source": [
    "#Modell erzeugen\n",
    "model.compile(\n",
    "    #optimizer='Adam',\n",
    "    optimizer=tf.keras.optimizers.Adam(),\n",
    "    #loss='categorical_crossentropy',\n",
    "    loss= tf.keras.losses.CategoricalCrossentropy(),\n",
    "    metrics=['accuracy'])"
   ]
  },
  {
   "cell_type": "code",
   "execution_count": null,
   "metadata": {},
   "outputs": [],
   "source": [
    "#Modell trainieren\n",
    "model.fit(train_images, train_labels_ohe,\n",
    "          epochs=5,\n",
    "          #validation_data=(test_images, test_labels),\n",
    "          validation_split=0.2,\n",
    "          callbacks=[tensorboard_callback]\n",
    "         )"
   ]
  },
  {
   "cell_type": "code",
   "execution_count": null,
   "metadata": {},
   "outputs": [],
   "source": [
    "model.save_weights(\"./FashionMNIST_CNN.h5\")"
   ]
  },
  {
   "cell_type": "markdown",
   "metadata": {},
   "source": [
    "Wir können uns nun den Verlauf des Trainings im **TensorBoard** ansehen."
   ]
  },
  {
   "cell_type": "code",
   "execution_count": null,
   "metadata": {},
   "outputs": [],
   "source": [
    "%tensorboard --logdir logs"
   ]
  },
  {
   "cell_type": "markdown",
   "metadata": {},
   "source": [
    "**Aufgabe:** Evaulieren Sie das Modell mit dem Testdatensatz. Geben die *Classification Accuracy* aus."
   ]
  },
  {
   "cell_type": "code",
   "execution_count": null,
   "metadata": {
    "deletable": false,
    "nbgrader": {
     "grade": true,
     "grade_id": "cell-3e10a0bb3863c6e5",
     "locked": false,
     "points": 0,
     "schema_version": 3,
     "solution": true,
     "task": false
    }
   },
   "outputs": [],
   "source": [
    "test_acc = None\n",
    "# YOUR CODE HERE\n",
    "raise NotImplementedError()\n",
    "print('Test accuracy:', test_acc)"
   ]
  },
  {
   "cell_type": "markdown",
   "metadata": {},
   "source": [
    "**Aufgabe:** Verwenden Sie nun statt der *One-Hot* kodierten Labels (z.B. `train_labels_ohe`) die originalen Labels mit den Klassen von $0$ bis $9$ (z.B. `train_labels`).\n",
    "Was müssen See im Code umstellen, damit das Training für diese etwas anderen Daten funktioniert?"
   ]
  },
  {
   "cell_type": "code",
   "execution_count": null,
   "metadata": {
    "deletable": false,
    "nbgrader": {
     "grade": true,
     "grade_id": "cell-dd4a633943982b99",
     "locked": false,
     "points": 0,
     "schema_version": 3,
     "solution": true,
     "task": false
    }
   },
   "outputs": [],
   "source": [
    "# YOUR CODE HERE\n",
    "raise NotImplementedError()\n",
    "\n",
    "#!rm ./FashionMNIST_CNN_v2.h5\n",
    "#!rm -rf ./logs/*\n",
    "\n",
    "\n",
    "print('Test accuracy:', test_acc)\n"
   ]
  },
  {
   "cell_type": "markdown",
   "metadata": {},
   "source": [
    "**Aufgabe:** Verbessern Sie die Qualität des CNNs. Sie können die Layer ändern, neue layer hinzufügen und/oder mehr Epochen trainieren."
   ]
  },
  {
   "cell_type": "markdown",
   "metadata": {},
   "source": [
    "### Referenzen\n",
    "[1] [*Fashion-MNIST with tf.Keras*](https://blog.tensorflow.org/2018/04/fashion-mnist-with-tfkeras.html), TensorFlow Blog, 2018"
   ]
  },
  {
   "cell_type": "code",
   "execution_count": null,
   "metadata": {},
   "outputs": [],
   "source": []
  }
 ],
 "metadata": {
  "kernelspec": {
   "display_name": "Python 3",
   "language": "python",
   "name": "python3"
  },
  "language_info": {
   "codemirror_mode": {
    "name": "ipython",
    "version": 3
   },
   "file_extension": ".py",
   "mimetype": "text/x-python",
   "name": "python",
   "nbconvert_exporter": "python",
   "pygments_lexer": "ipython3",
   "version": "3.7.6"
  }
 },
 "nbformat": 4,
 "nbformat_minor": 2
}
